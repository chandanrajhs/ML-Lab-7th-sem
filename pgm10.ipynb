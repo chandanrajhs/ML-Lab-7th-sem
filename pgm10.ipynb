{
 "cells": [
  {
   "cell_type": "markdown",
   "metadata": {},
   "source": [
    "## Construct a Bayesian network considering medical data\n",
    "## Demonstrate the diagnosis of heart patients using standard Heart Disease dataset"
   ]
  },
  {
   "cell_type": "code",
   "execution_count": 1,
   "metadata": {},
   "outputs": [],
   "source": [
    "from sklearn.naive_bayes import GaussianNB\n",
    "import pandas as pd\n",
    "from sklearn import *\n",
    "from sklearn.metrics import accuracy_score\n",
    "import numpy as np\n",
    "from sklearn.model_selection import train_test_split\n",
    "from sklearn.naive_bayes import GaussianNB"
   ]
  },
  {
   "cell_type": "code",
   "execution_count": 2,
   "metadata": {},
   "outputs": [
    {
     "name": "stdout",
     "output_type": "stream",
     "text": [
      "     age  sex  cp  trestbps  chol  target\n",
      "0     63    1   3       145   233       1\n",
      "1     37    1   2       130   250       1\n",
      "2     41    0   1       130   204       1\n",
      "3     56    1   1       120   236       1\n",
      "4     57    0   0       120   354       1\n",
      "..   ...  ...  ..       ...   ...     ...\n",
      "298   57    0   0       140   241       0\n",
      "299   45    1   3       110   264       0\n",
      "300   68    1   0       144   193       0\n",
      "301   57    1   0       130   131       0\n",
      "302   57    0   1       130   236       0\n",
      "\n",
      "[303 rows x 6 columns]\n"
     ]
    }
   ],
   "source": [
    "data=pd.read_csv('dataset10.csv')\n",
    "df = pd.DataFrame(data)\n",
    "print(df)"
   ]
  },
  {
   "cell_type": "code",
   "execution_count": 3,
   "metadata": {},
   "outputs": [],
   "source": [
    "y=df.target\n",
    "x=df.drop('target',axis=1)"
   ]
  },
  {
   "cell_type": "code",
   "execution_count": 4,
   "metadata": {},
   "outputs": [],
   "source": [
    "#from sklearn.model_selection import train_test_split\n",
    "X_train, X_test, y_train, y_test = train_test_split(x,y, test_size=0.2, random_state=70)"
   ]
  },
  {
   "cell_type": "code",
   "execution_count": 5,
   "metadata": {},
   "outputs": [
    {
     "data": {
      "text/plain": [
       "GaussianNB()"
      ]
     },
     "execution_count": 5,
     "metadata": {},
     "output_type": "execute_result"
    }
   ],
   "source": [
    "#from sklearn.naive_bayes import GaussianNB\n",
    "gnb = GaussianNB()\n",
    "gnb.fit(X_train,y_train)"
   ]
  },
  {
   "cell_type": "code",
   "execution_count": 6,
   "metadata": {},
   "outputs": [
    {
     "name": "stdout",
     "output_type": "stream",
     "text": [
      "Enter the age: 60\n",
      "Enter the sex: 2\n",
      "Enter the chest Pain: 6\n",
      "Enter the trest: 2\n",
      "Enter the cholestrol: 260\n"
     ]
    }
   ],
   "source": [
    "age=int(input(\"Enter the age: \"))\n",
    "sex=int(input(\"Enter the sex: \"))\n",
    "cp=int(input(\"Enter the chest Pain: \"))\n",
    "trest=int(input(\"Enter the trest: \"))\n",
    "chol=int(input(\"Enter the cholestrol: \"))"
   ]
  },
  {
   "cell_type": "code",
   "execution_count": 7,
   "metadata": {},
   "outputs": [
    {
     "name": "stdout",
     "output_type": "stream",
     "text": [
      "Predicted values of given samples is :  [0]\n",
      "The probability of predicting no heart disease for the input is :  [0.97594323]\n",
      "The probability of predicting heart disease for the input is :  [0.02405677]\n"
     ]
    }
   ],
   "source": [
    "pred=gnb.predict([[age,sex,cp,trest,chol]])\n",
    "prob=gnb.predict_proba([[age,sex,cp,trest,chol]])\n",
    "print(\"Predicted values of given samples is : \",pred)\n",
    "print(\"The probability of predicting no heart disease for the input is : \",prob[:,0])\n",
    "print(\"The probability of predicting heart disease for the input is : \",prob[:,1])"
   ]
  }
 ],
 "metadata": {
  "kernelspec": {
   "display_name": "Python 3",
   "language": "python",
   "name": "python3"
  },
  "language_info": {
   "codemirror_mode": {
    "name": "ipython",
    "version": 3
   },
   "file_extension": ".py",
   "mimetype": "text/x-python",
   "name": "python",
   "nbconvert_exporter": "python",
   "pygments_lexer": "ipython3",
   "version": "3.7.9"
  }
 },
 "nbformat": 4,
 "nbformat_minor": 4
}
