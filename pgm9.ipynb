{
 "cells": [
  {
   "cell_type": "markdown",
   "metadata": {},
   "source": [
    "## Build a Neural Network by implementing Back propagation Algorithm\n",
    "## Test the same using appropriate datasets"
   ]
  },
  {
   "cell_type": "code",
   "execution_count": 1,
   "metadata": {},
   "outputs": [],
   "source": [
    "import numpy as np"
   ]
  },
  {
   "cell_type": "code",
   "execution_count": 2,
   "metadata": {},
   "outputs": [],
   "source": [
    "X=np.array(([2,9],[1,5],[3,6]), dtype=float)\n",
    "y=np.array(([92],[86],[89]), dtype=float)"
   ]
  },
  {
   "cell_type": "code",
   "execution_count": 3,
   "metadata": {},
   "outputs": [],
   "source": [
    "X=X/np.amax(X,axis=0)\n",
    "y=y/100"
   ]
  },
  {
   "cell_type": "code",
   "execution_count": 4,
   "metadata": {},
   "outputs": [],
   "source": [
    "def sigmoid(x):\n",
    "    return 1/(1+np.exp(-x))"
   ]
  },
  {
   "cell_type": "code",
   "execution_count": 5,
   "metadata": {},
   "outputs": [],
   "source": [
    "def derivatives_sigmoid(x):\n",
    "    return x*(1-x)"
   ]
  },
  {
   "cell_type": "code",
   "execution_count": 6,
   "metadata": {},
   "outputs": [],
   "source": [
    "epoch = 500\n",
    "lr=0.1  #learning rate\n",
    "inputlayer_neurons=2\n",
    "hiddenlayer_neurons=3\n",
    "output_neurons=1\n",
    "wh=np.random.uniform(size=(inputlayer_neurons,hiddenlayer_neurons)) #hidden layer weight\n",
    "bh=np.random.uniform(size=(1,hiddenlayer_neurons)) #hidden layer bias\n",
    "wout=np.random.uniform(size=(hiddenlayer_neurons,output_neurons))\n",
    "bout=np.random.uniform(size=(1,output_neurons))"
   ]
  },
  {
   "cell_type": "code",
   "execution_count": 7,
   "metadata": {},
   "outputs": [
    {
     "name": "stdout",
     "output_type": "stream",
     "text": [
      "Input:\n",
      "[[0.66666667 1.        ]\n",
      " [0.33333333 0.55555556]\n",
      " [1.         0.66666667]]\n",
      "\n",
      "\n",
      "Actual Output:\n",
      "[[0.92]\n",
      " [0.86]\n",
      " [0.89]]\n",
      "\n",
      "\n",
      "Predicted Ouput:\n",
      " [[0.89274677]\n",
      " [0.87524408]\n",
      " [0.8928882 ]]\n"
     ]
    }
   ],
   "source": [
    "for i in range(epoch):\n",
    "    hinp1=np.dot(X,wh)\n",
    "    hinp=hinp1+bh\n",
    "    hlayer_act=sigmoid(hinp)\n",
    "    outinp1=np.dot(hlayer_act,wout)\n",
    "    outinp=outinp1+bout\n",
    "    output=sigmoid(outinp)\n",
    "    EO=y-output\n",
    "    outgrad=derivatives_sigmoid(output)\n",
    "    d_output=EO*outgrad\n",
    "    EH=d_output.dot(wout.T)\n",
    "    hiddengrad=derivatives_sigmoid(hlayer_act)\n",
    "    d_hiddenlayer=EH*hiddengrad\n",
    "    wout+=hlayer_act.T.dot(d_output)*lr\n",
    "    wh+=X.T.dot(d_hiddenlayer)*lr\n",
    "print(\"Input:\\n\"+str(X))\n",
    "print(\"\\n\\nActual Output:\\n\"+str(y))\n",
    "print(\"\\n\\nPredicted Ouput:\\n\", output)"
   ]
  }
 ],
 "metadata": {
  "kernelspec": {
   "display_name": "Python 3",
   "language": "python",
   "name": "python3"
  },
  "language_info": {
   "codemirror_mode": {
    "name": "ipython",
    "version": 3
   },
   "file_extension": ".py",
   "mimetype": "text/x-python",
   "name": "python",
   "nbconvert_exporter": "python",
   "pygments_lexer": "ipython3",
   "version": "3.7.9"
  }
 },
 "nbformat": 4,
 "nbformat_minor": 4
}
