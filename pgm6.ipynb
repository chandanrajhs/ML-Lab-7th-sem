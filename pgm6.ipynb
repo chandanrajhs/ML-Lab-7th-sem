{
 "cells": [
  {
   "cell_type": "markdown",
   "metadata": {},
   "source": [
    "## Demonstrate the working of the decision tree based ID3 algorithm\n",
    "## use dataset for building the decision tree and apply this knowledge to classify a new sample"
   ]
  },
  {
   "cell_type": "code",
   "execution_count": 1,
   "metadata": {},
   "outputs": [],
   "source": [
    "import pandas as pd\n",
    "from math import log\n",
    "from pprint import pprint"
   ]
  },
  {
   "cell_type": "code",
   "execution_count": 2,
   "metadata": {},
   "outputs": [
    {
     "name": "stdout",
     "output_type": "stream",
     "text": [
      "     Outlook Temperature Humidity  Windy PlayTennis\n",
      "0      Sunny         Hot     High  False         No\n",
      "1      Sunny         Hot     High   True         No\n",
      "2   Overcast         Hot     High  False        Yes\n",
      "3      Rainy        Mild     High  False        Yes\n",
      "4      Rainy        Cool   Normal  False        Yes\n",
      "5      Rainy        Cool   Normal   True         No\n",
      "6   Overcast        Cool   Normal   True        Yes\n",
      "7      Sunny        Mild     High  False         No\n",
      "8      Sunny        Cool   Normal  False        Yes\n",
      "9      Rainy        Mild   Normal  False        Yes\n",
      "10     Sunny        Mild   Normal   True        Yes\n",
      "11  Overcast        Mild     High   True        Yes\n",
      "12  Overcast         Hot   Normal  False        Yes\n",
      "13     Rainy        Mild     High   True         No\n"
     ]
    }
   ],
   "source": [
    "df = pd.read_csv('dataset6.csv')\n",
    "data = df.values.tolist()\n",
    "attr_names = df.columns.values.tolist()\n",
    "print(df)"
   ]
  },
  {
   "cell_type": "code",
   "execution_count": 3,
   "metadata": {},
   "outputs": [],
   "source": [
    "def entropy(pos, neg):\n",
    "    if pos == 0 or neg == 0:\n",
    "        return 0\n",
    "    tot = pos + neg\n",
    "    return -pos / tot * log(pos / tot, 2) - neg / tot * log(neg / tot, 2)"
   ]
  },
  {
   "cell_type": "code",
   "execution_count": 4,
   "metadata": {},
   "outputs": [],
   "source": [
    "def gain(data, attr, pos, neg):\n",
    "    d, E, acu = {}, entropy(pos, neg), 0\n",
    "    for i in data:\n",
    "        if i[attr] not in d:\n",
    "            d[i[attr]] = {}\n",
    "        d[i[attr]][i[-1]] = 1 + d[i[attr]].get(i[-1], 0)\n",
    "    for i in d:\n",
    "        tot = d[i].get('Yes', 0) + d[i].get('No', 0)\n",
    "        acu += tot / (pos + neg) * entropy(d[i].get('Yes', 0), d[i].get('No', 0))\n",
    "    return E - acu"
   ]
  },
  {
   "cell_type": "code",
   "execution_count": 8,
   "metadata": {},
   "outputs": [],
   "source": [
    "def build(data, attr_names):\n",
    "    pos, sz = len([x for x in data if x[-1] == 'Yes']), len(data[0]) - 1\n",
    "    neg = len(data) - pos\n",
    "    if neg == 0 or pos == 0:\n",
    "        return 'Yes' if neg == 0 else 'No'\n",
    "    \n",
    "    root = max([[gain(data, i, pos, neg), i] for i in range(sz)])[1]     \n",
    "    fin, res = {}, {}\n",
    "    uniq_attr = set([x[root] for x in data])\n",
    "    for i in uniq_attr:\n",
    "        res[i] = build([x[:root] + x[root + 1:] for x in data if x[root] == i], attr_names[:root] + attr_names[root+1:])\n",
    "    \n",
    "    fin[attr_names[root]] = res\n",
    "    return fin    "
   ]
  },
  {
   "cell_type": "code",
   "execution_count": 9,
   "metadata": {},
   "outputs": [
    {
     "name": "stdout",
     "output_type": "stream",
     "text": [
      "{'Outlook': {'Overcast': 'Yes',\n",
      "             'Rainy': {'Windy': {False: 'Yes', True: 'No'}},\n",
      "             'Sunny': {'Humidity': {'High': 'No', 'Normal': 'Yes'}}}}\n"
     ]
    }
   ],
   "source": [
    "tree = build(data, attr_names)\n",
    "pprint(tree)"
   ]
  }
 ],
 "metadata": {
  "kernelspec": {
   "display_name": "Python 3",
   "language": "python",
   "name": "python3"
  },
  "language_info": {
   "codemirror_mode": {
    "name": "ipython",
    "version": 3
   },
   "file_extension": ".py",
   "mimetype": "text/x-python",
   "name": "python",
   "nbconvert_exporter": "python",
   "pygments_lexer": "ipython3",
   "version": "3.7.9"
  }
 },
 "nbformat": 4,
 "nbformat_minor": 4
}
