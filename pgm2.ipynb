{
 "cells": [
  {
   "cell_type": "code",
   "execution_count": 1,
   "metadata": {},
   "outputs": [
    {
     "name": "stdout",
     "output_type": "stream",
     "text": [
      "Confusion matrix is as follows\n",
      " [[13  0  0]\n",
      " [ 0 15  1]\n",
      " [ 0  0  9]]\n",
      "Accuracy Metrics\n",
      "              precision    recall  f1-score   support\n",
      "\n",
      "      Setosa       1.00      1.00      1.00        13\n",
      "  Versicolor       1.00      0.94      0.97        16\n",
      "   Virginica       0.90      1.00      0.95         9\n",
      "\n",
      "    accuracy                           0.97        38\n",
      "   macro avg       0.97      0.98      0.97        38\n",
      "weighted avg       0.98      0.97      0.97        38\n",
      "\n",
      " correct predicition 0.9736842105263158\n",
      " worng predicition 0.02631578947368418\n"
     ]
    }
   ],
   "source": [
    "from sklearn.neighbors import KNeighborsClassifier\n",
    "from sklearn.metrics import confusion_matrix, accuracy_score, classification_report\n",
    "from sklearn.model_selection import train_test_split\n",
    "import pandas as pd\n",
    "\n",
    "dataset=pd.read_csv('iris.csv')\n",
    "X = dataset.iloc[:, :-1].values\n",
    "y = dataset.iloc[:, 4].values\n",
    "X_train,X_test,y_train,y_test=train_test_split(X,y,random_state=0,test_size=0.25)\n",
    "classifier=KNeighborsClassifier(n_neighbors=8,p=3,metric='euclidean')\n",
    "classifier.fit(X_train,y_train)\n",
    "#predict the test resuts\n",
    "y_pred=classifier.predict(X_test)\n",
    "cm=confusion_matrix(y_test,y_pred)\n",
    "print('Confusion matrix is as follows\\n',cm)\n",
    "print('Accuracy Metrics')\n",
    "print(classification_report(y_test,y_pred))\n",
    "print(\" correct predicition\",accuracy_score(y_test,y_pred))\n",
    "print(\" worng predicition\",(1-accuracy_score(y_test,y_pred)))\n"
   ]
  }
 ],
 "metadata": {
  "kernelspec": {
   "display_name": "Python 3",
   "language": "python",
   "name": "python3"
  },
  "language_info": {
   "codemirror_mode": {
    "name": "ipython",
    "version": 3
   },
   "file_extension": ".py",
   "mimetype": "text/x-python",
   "name": "python",
   "nbconvert_exporter": "python",
   "pygments_lexer": "ipython3",
   "version": "3.7.9"
  }
 },
 "nbformat": 4,
 "nbformat_minor": 2
}
