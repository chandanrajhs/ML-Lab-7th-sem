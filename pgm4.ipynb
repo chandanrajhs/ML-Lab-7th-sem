{
 "cells": [
  {
   "cell_type": "markdown",
   "metadata": {},
   "source": [
    "## Assuming a set of documents that need to be classified, \n",
    "## use the naïve Bayesian Classifier model to perform this task\n",
    "## write the program to calculate the accuracy, precision, and recall for your data set"
   ]
  },
  {
   "cell_type": "code",
   "execution_count": 1,
   "metadata": {},
   "outputs": [],
   "source": [
    "import pandas as pd\n",
    "from sklearn.model_selection import train_test_split\n",
    "from sklearn.feature_extraction.text import CountVectorizer\n",
    "from sklearn.naive_bayes import MultinomialNB\n",
    "from sklearn.metrics import accuracy_score, precision_score, recall_score, confusion_matrix"
   ]
  },
  {
   "cell_type": "code",
   "execution_count": 2,
   "metadata": {},
   "outputs": [
    {
     "name": "stdout",
     "output_type": "stream",
     "text": [
      "Total instances in the dataset: 18\n"
     ]
    }
   ],
   "source": [
    "msg=pd.read_csv('dataset4.csv',names=['message','label'])\n",
    "print('Total instances in the dataset:',msg.shape[0])"
   ]
  },
  {
   "cell_type": "code",
   "execution_count": 3,
   "metadata": {},
   "outputs": [],
   "source": [
    "msg['labelnum']=msg.label.map({'pos':1,'neg':0})\n",
    "X=msg.message\n",
    "Y=msg.labelnum"
   ]
  },
  {
   "cell_type": "code",
   "execution_count": 4,
   "metadata": {},
   "outputs": [
    {
     "name": "stdout",
     "output_type": "stream",
     "text": [
      "\n",
      "Dataset is split into training and testing samples\n",
      "Total training instances: 13\n",
      "Total testing instances: 5\n"
     ]
    }
   ],
   "source": [
    "#from sklearn.model_selection import train_test_split\n",
    "xtrain,xtest,ytrain,ytest=train_test_split(X,Y)\n",
    "print('\\nDataset is split into training and testing samples')\n",
    "print('Total training instances:',xtrain.shape[0])\n",
    "print('Total testing instances:',xtest.shape[0])"
   ]
  },
  {
   "cell_type": "code",
   "execution_count": 5,
   "metadata": {},
   "outputs": [
    {
     "name": "stdout",
     "output_type": "stream",
     "text": [
      "\n",
      " Total features extracted using CountVectorizer: 40\n"
     ]
    }
   ],
   "source": [
    "#from sklearn.feature_extraction.text import CountVectorizer\n",
    "count_vect=CountVectorizer()\n",
    "xtrain_dtm=count_vect.fit_transform(xtrain)\n",
    "xtest_dtm=count_vect.transform(xtest)\n",
    "print('\\n Total features extracted using CountVectorizer:',xtrain_dtm.shape[1])"
   ]
  },
  {
   "cell_type": "code",
   "execution_count": 6,
   "metadata": {},
   "outputs": [
    {
     "name": "stdout",
     "output_type": "stream",
     "text": [
      "\n",
      "Classifiction results of testing samples are given below\n",
      "I love to dance->pos\n",
      "I feel very good about these beers->neg\n",
      "We will have good fun tomorrow->neg\n",
      "I went to my enemy's house today->neg\n",
      "I do not like this restaurant->neg\n"
     ]
    }
   ],
   "source": [
    "#from sklearn.naive_bayes import MultinomialNB\n",
    "clf=MultinomialNB().fit(xtrain_dtm,ytrain)\n",
    "predicted=clf.predict(xtest_dtm)\n",
    "print('\\nClassifiction results of testing samples are given below')\n",
    "for doc,p in zip(xtest,predicted):\n",
    "    pred='pos' if p==1 else 'neg'\n",
    "    print('%s->%s'%(doc,pred))"
   ]
  },
  {
   "cell_type": "code",
   "execution_count": 7,
   "metadata": {},
   "outputs": [
    {
     "name": "stdout",
     "output_type": "stream",
     "text": [
      "\n",
      "  Accuracy Metrics  \n",
      "Accuracy of the classifier is 0.6\n",
      "Recall: 0.3333333333333333 \n",
      "Precision: 1.0\n",
      "[[2 0]\n",
      " [2 1]]\n"
     ]
    }
   ],
   "source": [
    "#from sklearn import metrics\n",
    "print('\\n  Accuracy Metrics  ')\n",
    "print('Accuracy of the classifier is',accuracy_score(ytest,predicted))\n",
    "print('Recall:',recall_score(ytest,predicted),'\\nPrecision:',precision_score(ytest,predicted))\n",
    "print(confusion_matrix(ytest,predicted))"
   ]
  }
 ],
 "metadata": {
  "kernelspec": {
   "display_name": "Python 3",
   "language": "python",
   "name": "python3"
  },
  "language_info": {
   "codemirror_mode": {
    "name": "ipython",
    "version": 3
   },
   "file_extension": ".py",
   "mimetype": "text/x-python",
   "name": "python",
   "nbconvert_exporter": "python",
   "pygments_lexer": "ipython3",
   "version": "3.7.9"
  }
 },
 "nbformat": 4,
 "nbformat_minor": 4
}
