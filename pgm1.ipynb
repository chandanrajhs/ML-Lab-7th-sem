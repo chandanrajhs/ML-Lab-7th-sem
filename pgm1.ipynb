{
 "cells": [
  {
   "cell_type": "markdown",
   "metadata": {},
   "source": [
    "## Predict the price of the house depending upon its size.\n",
    "## implement it through supervised learning and also plot the graph for the same\n",
    "## size(sq.ft)-[245, 312, 279, 308, 199, 219, 405, 324, 319, 255]\n",
    "## price(USD)-[1400, 1600, 1700, 1875, 1100, 1550, 2350, 2450, 1425, 1700]"
   ]
  },
  {
   "cell_type": "code",
   "execution_count": 1,
   "metadata": {},
   "outputs": [],
   "source": [
    "import matplotlib.pyplot as plt\n",
    "import numpy as np\n",
    "from sklearn import linear_model"
   ]
  },
  {
   "cell_type": "code",
   "execution_count": 2,
   "metadata": {},
   "outputs": [],
   "source": [
    "house_price = [245, 312, 279, 308, 199, 219, 405, 324, 319, 255]\n",
    "size = [1400, 1600, 1700, 1875, 1100, 1550, 2350, 2450, 1425, 1700]"
   ]
  },
  {
   "cell_type": "code",
   "execution_count": 3,
   "metadata": {},
   "outputs": [
    {
     "data": {
      "image/png": "[encoded data removed]",
      "text/plain": [
       "<Figure size 432x288 with 1 Axes>"
      ]
     },
     "metadata": {
      "needs_background": "light"
     },
     "output_type": "display_data"
    }
   ],
   "source": [
    "plt.scatter (size,house_price, color='black')\n",
    "plt.ylabel('house price')\n",
    "plt.xlabel('size of house')\n",
    "plt.show()"
   ]
  },
  {
   "cell_type": "code",
   "execution_count": 4,
   "metadata": {},
   "outputs": [],
   "source": [
    "#==================================================================================================================\n",
    "#we use linear model of scikit to train our dataset in the following way\n",
    "size2 = np.array(size).reshape(-1, 1)"
   ]
  },
  {
   "cell_type": "code",
   "execution_count": 5,
   "metadata": {},
   "outputs": [
    {
     "name": "stdout",
     "output_type": "stream",
     "text": [
      "Coefficients: \n",
      " [0.10976774]\n",
      "intercept: \n",
      " 98.24832962138083\n"
     ]
    }
   ],
   "source": [
    "#fitting into the model\n",
    "regr = linear_model.LinearRegression()\n",
    "regr.fit(size2, house_price)\n",
    "print('Coefficients: \\n', regr.coef_)\n",
    "print('intercept: \\n', regr.intercept_)"
   ]
  },
  {
   "cell_type": "code",
   "execution_count": 6,
   "metadata": {},
   "outputs": [],
   "source": [
    "#formula obtained for the trained model\n",
    "def graph(formula, x_range):\n",
    "   x = np.array(x_range)\n",
    "   y = eval(formula)\n",
    "   plt.plot(x, y)"
   ]
  },
  {
   "cell_type": "code",
   "execution_count": 7,
   "metadata": {},
   "outputs": [
    {
     "name": "stdout",
     "output_type": "stream",
     "text": [
      "0.5808173118722726\n"
     ]
    },
    {
     "data": {
      "image/png": "[encoded data removed]",
      "text/plain": [
       "<Figure size 432x288 with 1 Axes>"
      ]
     },
     "metadata": {
      "needs_background": "light"
     },
     "output_type": "display_data"
    }
   ],
   "source": [
    "#plotting the prediction line \n",
    "graph('regr.coef_*x + regr.intercept_', range(1000, 2700))\n",
    "print(regr.score(size2, house_price))\n",
    "plt.scatter (size,house_price, color='black')\n",
    "plt.ylabel('house price')\n",
    "plt.xlabel('size of house')\n",
    "plt.show()\n",
    "#Here the equation of predicted line is in the form ‘y = mx + c’ with the value of ‘m’ and ‘c’ calculated above."
   ]
  },
  {
   "cell_type": "code",
   "execution_count": 11,
   "metadata": {},
   "outputs": [
    {
     "name": "stdout",
     "output_type": "stream",
     "text": [
      "[317.78380528]\n"
     ]
    }
   ],
   "source": [
    "print(regr.predict(np.array([2000]).reshape(-1,1)))"
   ]
  },
  {
   "cell_type": "code",
   "execution_count": null,
   "metadata": {},
   "outputs": [],
   "source": [
    "                    "
   ]
  }
 ],
 "metadata": {
  "kernelspec": {
   "display_name": "Python 3",
   "language": "python",
   "name": "python3"
  },
  "language_info": {
   "codemirror_mode": {
    "name": "ipython",
    "version": 3
   },
   "file_extension": ".py",
   "mimetype": "text/x-python",
   "name": "python",
   "nbconvert_exporter": "python",
   "pygments_lexer": "ipython3",
   "version": "3.7.9"
  }
 },
 "nbformat": 4,
 "nbformat_minor": 4
}
